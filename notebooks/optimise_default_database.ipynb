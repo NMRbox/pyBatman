{
 "cells": [
  {
   "cell_type": "markdown",
   "metadata": {},
   "source": [
    "# Optimise multiplet parameters using the standards"
   ]
  },
  {
   "cell_type": "code",
   "execution_count": null,
   "metadata": {
    "collapsed": false
   },
   "outputs": [],
   "source": [
    "%load_ext autoreload\n",
    "%autoreload 2\n",
    "%matplotlib inline\n",
    "\n",
    "import warnings\n",
    "warnings.filterwarnings(\"ignore\") # suppress annoying warnings\n",
    "\n",
    "import sys\n",
    "sys.path.append('/home/rstudio/codes')\n",
    "\n",
    "from glob import glob\n",
    "import os\n",
    "from collections import defaultdict\n",
    "import re\n",
    "\n",
    "from IPython.display import display, HTML\n",
    "import seaborn as sns\n",
    "\n",
    "from pyBatman import PyBatmanPipeline, sub_dir_path"
   ]
  },
  {
   "cell_type": "markdown",
   "metadata": {},
   "source": [
    "## 1. Setup the pipeline"
   ]
  },
  {
   "cell_type": "code",
   "execution_count": null,
   "metadata": {
    "collapsed": true
   },
   "outputs": [],
   "source": [
    "background_dir = '/home/rstudio/NMR/calibrations/background'\n",
    "output_dir = None\n",
    "database_file = '/home/rstudio/codes/databases/default_db.csv'"
   ]
  },
  {
   "cell_type": "code",
   "execution_count": null,
   "metadata": {
    "collapsed": false
   },
   "outputs": [],
   "source": [
    "input_backgrounds = sub_dir_path(background_dir)\n",
    "pipeline = PyBatmanPipeline(input_backgrounds, 'cpmg', '.', database_file)"
   ]
  },
  {
   "cell_type": "code",
   "execution_count": null,
   "metadata": {
    "collapsed": false
   },
   "outputs": [],
   "source": [
    "print pipeline.tsp_range"
   ]
  },
  {
   "cell_type": "markdown",
   "metadata": {},
   "source": [
    "## 2. Load spiked metabolites"
   ]
  },
  {
   "cell_type": "code",
   "execution_count": null,
   "metadata": {
    "collapsed": false
   },
   "outputs": [],
   "source": [
    "std_concentrations = [50, 100, 250, 500]"
   ]
  },
  {
   "cell_type": "code",
   "execution_count": null,
   "metadata": {
    "collapsed": false
   },
   "outputs": [],
   "source": [
    "names = sorted(pipeline.db.metabolites.keys())\n",
    "lower_names = {}\n",
    "for name in names:\n",
    "    tokens = name.split('_')\n",
    "    value = tokens[0].lower()\n",
    "    lower_names[name] = value\n",
    "names = sorted(set(lower_names.values()))"
   ]
  },
  {
   "cell_type": "code",
   "execution_count": null,
   "metadata": {
    "collapsed": false,
    "scrolled": true
   },
   "outputs": [],
   "source": [
    "for name in sorted(pipeline.db.metabolites.keys()):\n",
    "    if name == 'TSP':\n",
    "        continue\n",
    "    print name, lower_names[name]"
   ]
  },
  {
   "cell_type": "code",
   "execution_count": null,
   "metadata": {
    "collapsed": true
   },
   "outputs": [],
   "source": [
    "def natural_sort(l): \n",
    "    convert = lambda text: int(text) if text.isdigit() else text.lower() \n",
    "    alphanum_key = lambda key: [ convert(c) for c in re.split('([0-9]+)', key) ] \n",
    "    return sorted(l, key = alphanum_key)"
   ]
  },
  {
   "cell_type": "code",
   "execution_count": null,
   "metadata": {
    "collapsed": false,
    "scrolled": false
   },
   "outputs": [],
   "source": [
    "base_dir = '/home/rstudio/NMR/calibrations/spiked_metabolites/'\n",
    "metabolite_concentrations = defaultdict(list)\n",
    "for name in sorted(pipeline.db.metabolites.keys()):\n",
    "    if name == 'TSP':\n",
    "        continue\n",
    "    print '======================================================='\n",
    "    print 'Loading %s' % name\n",
    "    print '=======================================================' \n",
    "    \n",
    "    ln = lower_names[name]\n",
    "    paths = natural_sort(glob(os.path.join(base_dir, '%s*'%ln)))\n",
    "    for input_spectra in paths:\n",
    "        my_dir = os.path.basename(os.path.normpath(input_spectra))\n",
    "        tokens = my_dir.split('_')\n",
    "        metabolite = tokens[0]\n",
    "        conc = int(tokens[1])\n",
    "        pipeline.load_spiked(name, conc, input_spectra)\n",
    "        metabolite_concentrations[name].append(conc)\n",
    "    print\n",
    "    print"
   ]
  },
  {
   "cell_type": "markdown",
   "metadata": {},
   "source": [
    "## 3. Optimise model parameters"
   ]
  },
  {
   "cell_type": "code",
   "execution_count": null,
   "metadata": {
    "collapsed": true
   },
   "outputs": [],
   "source": [
    "tsp_concentration = 2320"
   ]
  },
  {
   "cell_type": "code",
   "execution_count": null,
   "metadata": {
    "collapsed": false,
    "scrolled": false
   },
   "outputs": [],
   "source": [
    "db = pipeline.db\n",
    "for name in sorted(db.metabolites.keys()):\n",
    "    # do not optimise TSP    \n",
    "    if name == 'TSP':\n",
    "        continue        \n",
    "    # a new copy of the db is created each time with the corrected relative intensity\n",
    "    if name in metabolite_concentrations:\n",
    "        std_concentrations = metabolite_concentrations[name]\n",
    "        db = pipeline.update_rel_intensities(db, name, std_concentrations, tsp_concentration)"
   ]
  },
  {
   "cell_type": "code",
   "execution_count": null,
   "metadata": {
    "collapsed": false
   },
   "outputs": [],
   "source": [
    "display(db.df)"
   ]
  },
  {
   "cell_type": "markdown",
   "metadata": {},
   "source": [
    "## 4. Save the DB"
   ]
  },
  {
   "cell_type": "code",
   "execution_count": null,
   "metadata": {
    "collapsed": false
   },
   "outputs": [],
   "source": [
    "db.df.to_csv('/home/rstudio/codes/databases/default_optimised_db.csv', index=False)"
   ]
  }
 ],
 "metadata": {
  "anaconda-cloud": {},
  "kernelspec": {
   "display_name": "Python 2",
   "language": "python",
   "name": "python2"
  },
  "language_info": {
   "codemirror_mode": {
    "name": "ipython",
    "version": 2
   },
   "file_extension": ".py",
   "mimetype": "text/x-python",
   "name": "python",
   "nbconvert_exporter": "python",
   "pygments_lexer": "ipython2",
   "version": "2.7.12"
  }
 },
 "nbformat": 4,
 "nbformat_minor": 1
}
