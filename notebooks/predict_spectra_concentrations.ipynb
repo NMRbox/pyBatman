{
 "cells": [
  {
   "cell_type": "code",
   "execution_count": null,
   "metadata": {
    "collapsed": true
   },
   "outputs": [],
   "source": [
    "spectra_dir = '/home/rstudio/NMR/spectra/Carina_Promastigotes_DMM_150924_Day1A'"
   ]
  },
  {
   "cell_type": "code",
   "execution_count": null,
   "metadata": {},
   "outputs": [],
   "source": [
    "%matplotlib inline\n",
    "%load_ext autoreload\n",
    "%autoreload 2\n",
    "\n",
    "import warnings\n",
    "warnings.filterwarnings(\"ignore\") # ignore some matplotlib warnings\n",
    "\n",
    "import sys\n",
    "sys.path.append('/home/rstudio/codes')\n",
    "from pyBatman import PyBatmanPipeline, load_config, get_db_path, sub_dir_path\n",
    "from pyBatman.constants import BACKGROUND_DIR, PATTERN, TEMP_DIR, OUTPUT_DIR"
   ]
  },
  {
   "cell_type": "code",
   "execution_count": null,
   "metadata": {},
   "outputs": [],
   "source": [
    "config = load_config()\n",
    "db = get_db_path()\n",
    "\n",
    "n_burnin = config['n_burnin']\n",
    "n_sample = config['n_sample']\n",
    "n_iter = config['n_iter']\n",
    "tsp_concentration = config['tsp_concentration']\n",
    "pattern = config['pattern'] if 'pattern' in config else PATTERN\n",
    "verbose = True if config['verbose'] == 'True' else False\n",
    "scale_fac = config['scale_fac']"
   ]
  },
  {
   "cell_type": "code",
   "execution_count": null,
   "metadata": {
    "collapsed": true
   },
   "outputs": [],
   "source": [
    "background_dirs = sub_dir_path(BACKGROUND_DIR)"
   ]
  },
  {
   "cell_type": "code",
   "execution_count": null,
   "metadata": {
    "collapsed": true,
    "scrolled": false
   },
   "outputs": [],
   "source": [
    "pipeline = PyBatmanPipeline(background_dirs, pattern, TEMP_DIR, db)"
   ]
  },
  {
   "cell_type": "code",
   "execution_count": null,
   "metadata": {
    "scrolled": false
   },
   "outputs": [],
   "source": [
    "if spectra_dir is not None:\n",
    "    df, fit_results = pipeline.predict_conc(spectra_dir, n_burnin, n_sample, n_iter, \n",
    "                                            tsp_concentration, scale_fac, verbose=verbose)\n",
    "    pipeline.save_results(spectra_dir, df, fit_results, OUTPUT_DIR)"
   ]
  },
  {
   "cell_type": "code",
   "execution_count": null,
   "metadata": {
    "collapsed": true
   },
   "outputs": [],
   "source": []
  }
 ],
 "metadata": {
  "anaconda-cloud": {},
  "kernelspec": {
   "display_name": "Python 2",
   "language": "python",
   "name": "python2"
  },
  "language_info": {
   "codemirror_mode": {
    "name": "ipython",
    "version": 2
   },
   "file_extension": ".py",
   "mimetype": "text/x-python",
   "name": "python",
   "nbconvert_exporter": "python",
   "pygments_lexer": "ipython2",
   "version": "2.7.12"
  }
 },
 "nbformat": 4,
 "nbformat_minor": 1
}
