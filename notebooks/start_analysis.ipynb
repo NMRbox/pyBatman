{
 "cells": [
  {
   "cell_type": "code",
   "execution_count": null,
   "metadata": {
    "collapsed": true
   },
   "outputs": [],
   "source": [
    "import os\n",
    "import sys\n",
    "sys.path.append('/home/rstudio/codes')"
   ]
  },
  {
   "cell_type": "code",
   "execution_count": null,
   "metadata": {},
   "outputs": [],
   "source": [
    "from pyBatman.nbrun import run_notebook\n",
    "from pyBatman import load_config, get_db_path, sub_dir_path, mkdir_p\n",
    "from pyBatman.constants import WD, SPECTRA_DIR, BACKGROUND_DIR, OUTPUT_DIR"
   ]
  },
  {
   "cell_type": "code",
   "execution_count": null,
   "metadata": {
    "collapsed": true
   },
   "outputs": [],
   "source": [
    "nb_name_input = '/home/rstudio/codes/notebooks/predict_spectra_concentrations.ipynb'"
   ]
  },
  {
   "cell_type": "code",
   "execution_count": null,
   "metadata": {},
   "outputs": [],
   "source": [
    "if os.path.isdir(WD): # if wd exists (has been mapped)\n",
    "\n",
    "    spectra_found = os.path.isdir(SPECTRA_DIR)\n",
    "    background_found = os.path.isdir(BACKGROUND_DIR)\n",
    "    \n",
    "    if spectra_found and background_found:        \n",
    "        input_spectra = sub_dir_path(SPECTRA_DIR)\n",
    "        mkdir_p(OUTPUT_DIR)                \n",
    "        for sd in sorted(input_spectra):\n",
    "\n",
    "            print 'Now processing %s' % sd\n",
    "            base_name = os.path.basename(os.path.normpath(sd))\n",
    "            nb_name_output = os.path.join(OUTPUT_DIR, '%s.html' % base_name)\n",
    "            \n",
    "            timeout = -1 # never times out\n",
    "            nb_kwargs = {'spectra_dir': sd}\n",
    "            try:\n",
    "                run_notebook(nb_name_input, nb_name_output, timeout=timeout, nb_kwargs=nb_kwargs)\n",
    "            except Exception:\n",
    "                continue"
   ]
  },
  {
   "cell_type": "code",
   "execution_count": null,
   "metadata": {
    "collapsed": true
   },
   "outputs": [],
   "source": [
    "import pandas as pd\n",
    "import glob\n",
    "import os\n",
    "from IPython.display import display, HTML"
   ]
  },
  {
   "cell_type": "code",
   "execution_count": null,
   "metadata": {
    "collapsed": true
   },
   "outputs": [],
   "source": [
    "def get_file_id(csv_filename):\n",
    "    basename = os.path.basename(os.path.normpath(csv_filename))\n",
    "    filename_no_extension = os.path.splitext(basename)[0]\n",
    "#     tokens = filename_no_extension.split('.')\n",
    "#     file_id = tokens[1]\n",
    "#     file_id = file_id.replace('ID_', '')\n",
    "#     return file_id\n",
    "    return filename_no_extension"
   ]
  },
  {
   "cell_type": "code",
   "execution_count": null,
   "metadata": {
    "collapsed": true
   },
   "outputs": [],
   "source": [
    "def get_df(csv_filename):\n",
    "    df = pd.read_csv(csv_filename, header=0, index_col=0)\n",
    "    file_id = get_file_id(csv_filename)\n",
    "    df.rename(columns={'Concentration (mM)': file_id}, inplace=True)\n",
    "    return df"
   ]
  },
  {
   "cell_type": "code",
   "execution_count": null,
   "metadata": {},
   "outputs": [],
   "source": [
    "csv_dir = os.path.join(OUTPUT_DIR, 'csv')\n",
    "csv_files = glob.glob(os.path.join(csv_dir, '*.csv'))\n",
    "print '\\n'.join(csv_files)"
   ]
  },
  {
   "cell_type": "code",
   "execution_count": null,
   "metadata": {
    "scrolled": true
   },
   "outputs": [],
   "source": [
    "dfs = []\n",
    "for csv_filename in csv_files:\n",
    "    df = get_df(csv_filename)\n",
    "    display(df.transpose())\n",
    "    dfs.append(df)"
   ]
  },
  {
   "cell_type": "code",
   "execution_count": null,
   "metadata": {},
   "outputs": [],
   "source": [
    "combined_df = pd.concat(dfs, axis=1)\n",
    "combined_df = combined_df.transpose()\n",
    "display(combined_df)"
   ]
  },
  {
   "cell_type": "code",
   "execution_count": null,
   "metadata": {
    "collapsed": true
   },
   "outputs": [],
   "source": [
    "combined_df.to_csv(os.path.join(OUTPUT_DIR, 'results.csv'))"
   ]
  },
  {
   "cell_type": "code",
   "execution_count": null,
   "metadata": {
    "collapsed": true
   },
   "outputs": [],
   "source": []
  }
 ],
 "metadata": {
  "kernelspec": {
   "display_name": "Python 2",
   "language": "python",
   "name": "python2"
  },
  "language_info": {
   "codemirror_mode": {
    "name": "ipython",
    "version": 2
   },
   "file_extension": ".py",
   "mimetype": "text/x-python",
   "name": "python",
   "nbconvert_exporter": "python",
   "pygments_lexer": "ipython2",
   "version": "2.7.12"
  }
 },
 "nbformat": 4,
 "nbformat_minor": 1
}
